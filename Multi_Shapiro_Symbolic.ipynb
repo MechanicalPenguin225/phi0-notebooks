{
 "cells": [
  {
   "cell_type": "code",
   "execution_count": 1,
   "id": "2ae6e209-db89-47d7-b981-d8a42b5ce8d2",
   "metadata": {},
   "outputs": [],
   "source": [
    "import numpy as np\n",
    "import matplotlib.pyplot as plt\n",
    "from scipy.special import jv\n",
    "from scipy.signal import convolve\n",
    "import sympy as s\n",
    "from sympy import I, oo, re, im, Abs, arg\n",
    "from sympy.simplify.fu import TR9 as contract_trig_sums\n",
    "s.init_printing() # set up the best possible printing method for sympy"
   ]
  },
  {
   "cell_type": "markdown",
   "id": "229b84cb-3a31-43e0-9b86-0651e7be05b5",
   "metadata": {
    "tags": []
   },
   "source": [
    "# 0. Some reminders, common code and sources\n",
    "For our $2\\omega + 3\\omega$ experiment, \n",
    "\n",
    "<span style=\"color:orangered\"> $\\forall l \\in \\mathbb{Z}, \\quad \\displaystyle \\sum_{\\substack{n, m \\in \\mathbb{Z}^{2}\\\\ 2n + 3m = l}} J_n\\left(\\alpha \\right)J_m\\left(\\beta \\right)e^{-i \\left( n\\varphi_1 + m \\varphi_2\\right)}$</span>\n",
    "\n",
    "So here the idea is to set the junction @ 0 voltage, and then to look @ the emitted spectrum. \n",
    "\n",
    "The I-V characteristic is, as per the multiharmonic notebook : \n",
    "\n",
    "$I = I_0 \\displaystyle \\sum_{l\\in \\mathbb{Z}} \\left| p_l \\right| \\sin\\left(\\theta_0 + \\omega_J t + l\\omega t + \\mathrm{Arg}(p_l)\\right)$.\n",
    "\n",
    "Since $V = 0$, $\\omega_J = 0$ and thus :\n",
    "\n",
    "$I = I_0 \\displaystyle \\sum_{l\\in \\mathbb{Z}} \\left| p_l \\right| \\sin\\left(\\theta_0 + l\\omega t + \\mathrm{Arg}(p_l)\\right)$.\n",
    "\n",
    "So looking at the components of the signal having frequency $\\omega$ :\n",
    "\n",
    "$I_\\omega = I_0 \\Big(\\left|p_{-1}\\right|\\sin\\big(\\theta_0 - \\omega t + \\mathrm{Arg}\\left(p_{-1}\\right)\\big) + \\left|p_{1}\\right|\\sin\\big(\\theta_0 + \\omega t + \\mathrm{Arg}\\left(p_{1}\\right)\\big) \\Big)$\n",
    "\n",
    "Note : since we are forcing $V_{DC} = 0$ and $I_{DC} = 0$, the DC term $I_{DC} = I_0 \\left|p_0 \\right| \\sin\\left(\\theta_0 + \\mathrm{Arg}\\!\\left(p_0\\right) \\right)$ means that <span style='color:royalblue'> $\\theta_0 = -\\mathrm{Arg}\\!\\left(p_0\\right) + n\\pi$ </span> so long as $\\left| p_0 \\right| \\neq 0$\n",
    "\n",
    "\n",
    "When disspiating through a resistance R, this gives a power of :\n",
    "\n",
    "<span style=\"color:royalblue\">$P_\\omega = \\frac{R I_0^2}{2}\\Big( \\left| p_{-1} \\right| ^2 + \\left| p_{1} \\right| ^2 + 2\\left|p_{-1} \\right| \\left|p_{1} \\right| \\cos \\left( 2\\theta_0 + \\mathrm{Arg}\\!\\left( p_1\\right) + \\mathrm{Arg}\\!\\left( p_{-1}\\right) \\right) \\Big)$</span>\n",
    "\n",
    "### RESOURCES\n",
    "\n",
    "For grouping terms together, check out Rewriting : https://docs.sympy.org/latest/modules/rewriting.html\n",
    "\n",
    "For a whole bunch of trig subs, look into https://docs.sympy.org/latest/modules/simplify/fu.html , there's probably already a TR function that'll do the job."
   ]
  },
  {
   "cell_type": "code",
   "execution_count": 2,
   "id": "82d25882-6b97-4974-b001-3b806719382f",
   "metadata": {},
   "outputs": [],
   "source": [
    "alpha, beta, phi_1, phi_2, k, n, k_0, n_0, q, delta, omega, phi_JJ, t = s.symbols(r\"\\alpha \\beta \\varphi_{1} \\varphi_{2} k n k_0 n_0 q \\delta \\omega \\varphi_{JJ} t\", real = True)\n",
    "\n",
    "def sub_for_delta(expression):\n",
    "    return expression.subs(phi_1, 2*delta/3 + 2*phi_2/3)\n",
    "\n",
    "def sub_for_phis(expression):\n",
    "    return expression.subs(delta, 3*phi_1/2 - phi_2)\n",
    "\n",
    "def particular_k_n(l):\n",
    "    return -l, l\n",
    "\n",
    "def bessel_terms(l, max_index):\n",
    "    # Lists bessel terms appearing in expansion for harmonic l for easier factoring\n",
    "    k_0, n_0 = particular_k_n(l)\n",
    "    return [s.besselj(3*q + k_0, alpha)*s.besselj(-2*q+n_0, beta) for q in range(max_index + 1)]"
   ]
  },
  {
   "cell_type": "markdown",
   "id": "5fb624b0-c9bf-41e4-a2a3-eb2f663aea4f",
   "metadata": {},
   "source": [
    "# 1. Complex formalism\n"
   ]
  },
  {
   "cell_type": "code",
   "execution_count": 3,
   "id": "3700fb5e-25de-44a6-a31b-51f5d0fda749",
   "metadata": {
    "tags": []
   },
   "outputs": [],
   "source": [
    "p_general = s.Sum(s.besselj(3*q + k_0, alpha)*s.besselj(-2*q+n_0, beta)*s.exp(-I*((3*q + k_0)*phi_1 + (-2*q+n_0)*phi_2 + phi_JJ)),\n",
    "         (q, -oo, oo))\n",
    "\n",
    "def general_term_complex(k_0, n_0, max_index):\n",
    "    if max_index is oo :\n",
    "        return s.Sum(s.besselj(3*q + k_0, alpha)*s.besselj(-2*q+n_0, beta)*s.exp(-I*((3*q + k_0)*phi_1 + (-2*q+n_0)*phi_2 + phi_JJ)),\n",
    "                     (q, -max_index, max_index))\n",
    "    else : \n",
    "        return s.Sum(s.besselj(3*q + k_0, alpha)*s.besselj(-2*q+n_0, beta)*s.exp(-I*((3*q + k_0)*phi_1 + (-2*q+n_0)*phi_2 + phi_JJ)),\n",
    "                     (q, -max_index, max_index)).doit()\n",
    "\n",
    "def p_l(l, max_index):\n",
    "    return general_term_complex(*particular_k_n(l), max_index)"
   ]
  },
  {
   "cell_type": "code",
   "execution_count": 11,
   "id": "b5ecd5f4-ece7-481c-9f9e-877ba1e65e98",
   "metadata": {},
   "outputs": [
    {
     "data": {
      "image/png": "[encoded data removed]",
      "text/latex": [
       "$\\displaystyle - 2 \\sin{\\left(2 \\delta \\right)} \\cos{\\left(\\varphi_{JJ} \\right)} J_{2}\\left(\\beta\\right) J_{3}\\left(\\alpha\\right) - 2 \\sin{\\left(6 \\delta \\right)} \\cos{\\left(\\varphi_{JJ} \\right)} J_{6}\\left(\\beta\\right) J_{9}\\left(\\alpha\\right) - 2 \\sin{\\left(10 \\delta \\right)} \\cos{\\left(\\varphi_{JJ} \\right)} J_{10}\\left(\\beta\\right) J_{15}\\left(\\alpha\\right) - 2 \\sin{\\left(\\varphi_{JJ} \\right)} \\cos{\\left(4 \\delta \\right)} J_{4}\\left(\\beta\\right) J_{6}\\left(\\alpha\\right) - 2 \\sin{\\left(\\varphi_{JJ} \\right)} \\cos{\\left(8 \\delta \\right)} J_{8}\\left(\\beta\\right) J_{12}\\left(\\alpha\\right) - \\sin{\\left(\\varphi_{JJ} \\right)} J_{0}\\left(\\alpha\\right) J_{0}\\left(\\beta\\right)$"
      ],
      "text/plain": [
       "-2⋅sin(2⋅\\delta)⋅cos(\\varphi_{JJ})⋅besselj(2, \\beta)⋅besselj(3, \\alpha) - 2⋅si\n",
       "n(6⋅\\delta)⋅cos(\\varphi_{JJ})⋅besselj(6, \\beta)⋅besselj(9, \\alpha) - 2⋅sin(10⋅\n",
       "\\delta)⋅cos(\\varphi_{JJ})⋅besselj(10, \\beta)⋅besselj(15, \\alpha) - 2⋅sin(\\varp\n",
       "hi_{JJ})⋅cos(4⋅\\delta)⋅besselj(4, \\beta)⋅besselj(6, \\alpha) - 2⋅sin(\\varphi_{J\n",
       "J})⋅cos(8⋅\\delta)⋅besselj(8, \\beta)⋅besselj(12, \\alpha) - sin(\\varphi_{JJ})⋅be\n",
       "sselj(0, \\alpha)⋅besselj(0, \\beta)"
      ]
     },
     "execution_count": 11,
     "metadata": {},
     "output_type": "execute_result"
    }
   ],
   "source": [
    "l = 0\n",
    "order = 5\n",
    "\n",
    "bessels = bessel_terms(l, order)\n",
    "\n",
    "p_0 = p_l(l, order)\n",
    "\n",
    "p_0 = sub_for_delta(p_0)\n",
    "p_0 = s.collect(p_0, bessels)\n",
    "contract_trig_sums(im(p_0))"
   ]
  },
  {
   "cell_type": "markdown",
   "id": "630d8673-c6c7-4e17-8780-7b37228d59bf",
   "metadata": {},
   "source": [
    "# 2. Sine formalism"
   ]
  },
  {
   "cell_type": "code",
   "execution_count": 5,
   "id": "828b9a7b-8669-407f-92b3-b9e31b80d2cf",
   "metadata": {},
   "outputs": [],
   "source": [
    "p_general = s.Sum(s.besselj(3*q + k_0, alpha)*s.besselj(-2*q+n_0, beta)*s.sin(phi_JJ + (2*(3*q + k_0) + (-2*q+n_0)*3)*omega*t + (3*q + k_0 )*phi_1 + (-2*q+n_0)*phi_2),\n",
    "         (q, -oo, oo))\n",
    "\n",
    "def general_term_real(k_0, n_0, max_index):\n",
    "    if max_index is oo :\n",
    "        return s.Sum(s.besselj(3*q + k_0, alpha)*s.besselj(-2*q+n_0, beta)*s.sin(phi_JJ + (2*(3*q + k_0) + (-2*q+n_0)*3)*omega*t + (3*q + k_0 )*phi_1 + (-2*q+n_0)*phi_2),\n",
    "                     (q, -max_index, max_index))\n",
    "    else : \n",
    "        return s.Sum(s.besselj(3*q + k_0, alpha)*s.besselj(-2*q+n_0, beta)*s.sin(phi_JJ + (2*(3*q + k_0) + (-2*q+n_0)*3)*omega*t + (3*q + k_0 )*phi_1 + (-2*q+n_0)*phi_2),\n",
    "                     (q, -max_index, max_index)).doit()\n",
    "\n",
    "\n",
    "def freq_component(l, max_index):\n",
    "    if l == 0 :\n",
    "        return general_term_real(*particular_k_n(l), max_index)\n",
    "    else :\n",
    "        return general_term_real(*particular_k_n(l), max_index) + general_term_real(*particular_k_n(-l), max_index)"
   ]
  },
  {
   "cell_type": "code",
   "execution_count": 7,
   "id": "875767f3-4164-44f0-a807-27c5f69f3131",
   "metadata": {},
   "outputs": [
    {
     "data": {
      "image/png": "[encoded data removed]",
      "text/latex": [
       "$\\displaystyle 2 \\sin{\\left(2 \\delta \\right)} \\cos{\\left(\\varphi_{JJ} \\right)} J_{2}\\left(\\beta\\right) J_{3}\\left(\\alpha\\right) + 2 \\sin{\\left(6 \\delta \\right)} \\cos{\\left(\\varphi_{JJ} \\right)} J_{6}\\left(\\beta\\right) J_{9}\\left(\\alpha\\right) + 2 \\sin{\\left(\\varphi_{JJ} \\right)} \\cos{\\left(4 \\delta \\right)} J_{4}\\left(\\beta\\right) J_{6}\\left(\\alpha\\right) + \\sin{\\left(\\varphi_{JJ} \\right)} J_{0}\\left(\\alpha\\right) J_{0}\\left(\\beta\\right)$"
      ],
      "text/plain": [
       "2⋅sin(2⋅\\delta)⋅cos(\\varphi_{JJ})⋅besselj(2, \\beta)⋅besselj(3, \\alpha) + 2⋅sin\n",
       "(6⋅\\delta)⋅cos(\\varphi_{JJ})⋅besselj(6, \\beta)⋅besselj(9, \\alpha) + 2⋅sin(\\var\n",
       "phi_{JJ})⋅cos(4⋅\\delta)⋅besselj(4, \\beta)⋅besselj(6, \\alpha) + sin(\\varphi_{JJ\n",
       "})⋅besselj(0, \\alpha)⋅besselj(0, \\beta)"
      ]
     },
     "execution_count": 7,
     "metadata": {},
     "output_type": "execute_result"
    }
   ],
   "source": [
    "l = 0\n",
    "order = 3\n",
    "\n",
    "bessels = bessel_terms(l, order)\n",
    "\n",
    "I_DC = freq_component(l, order) # generating the expression\n",
    "I_DC = sub_for_delta(I_DC) # turning the \n",
    "I_DC = s.collect(I_DC, bessels)\n",
    "\n",
    "# And here we're using Hongguang Fu's TR9 sub to turn sums of trigs to products of trigs\n",
    "I_DC = contract_trig_sums(I_DC)\n",
    "I_DC"
   ]
  }
 ],
 "metadata": {
  "kernelspec": {
   "display_name": "Python 3 (ipykernel)",
   "language": "python",
   "name": "python3"
  },
  "language_info": {
   "codemirror_mode": {
    "name": "ipython",
    "version": 3
   },
   "file_extension": ".py",
   "mimetype": "text/x-python",
   "name": "python",
   "nbconvert_exporter": "python",
   "pygments_lexer": "ipython3",
   "version": "3.9.12"
  }
 },
 "nbformat": 4,
 "nbformat_minor": 5
}
