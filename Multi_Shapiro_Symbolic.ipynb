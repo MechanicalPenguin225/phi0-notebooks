{
 "cells": [
  {
   "cell_type": "code",
   "execution_count": 31,
   "id": "2ae6e209-db89-47d7-b981-d8a42b5ce8d2",
   "metadata": {},
   "outputs": [],
   "source": [
    "import numpy as np\n",
    "import matplotlib.pyplot as plt\n",
    "from scipy.special import jv\n",
    "from scipy.signal import convolve\n",
    "import sympy as s\n",
    "from sympy import I, oo, re, im, Abs, arg\n",
    "from sympy.simplify.fu import TR9 as contract_trig_sums, TR10i\n",
    "s.init_printing() # set up the best possible printing method for sympy"
   ]
  },
  {
   "cell_type": "markdown",
   "id": "229b84cb-3a31-43e0-9b86-0651e7be05b5",
   "metadata": {
    "tags": []
   },
   "source": [
    "# 0. Some reminders, common code and sources\n",
    "For our $2\\omega + 3\\omega$ experiment, \n",
    "\n",
    "<span style=\"color:orangered\"> $\\forall l \\in \\mathbb{Z}, \\quad \\displaystyle \\sum_{\\substack{n, m \\in \\mathbb{Z}^{2}\\\\ 2n + 3m = l}} J_n\\left(\\alpha \\right)J_m\\left(\\beta \\right)e^{-i \\left( n\\varphi_1 + m \\varphi_2\\right)}$</span>\n",
    "\n",
    "So here the idea is to set the junction @ 0 voltage, and then to look @ the emitted spectrum. \n",
    "\n",
    "The I-V characteristic is, as per the multiharmonic notebook : \n",
    "\n",
    "$I = I_0 \\displaystyle \\sum_{l\\in \\mathbb{Z}} \\left| p_l \\right| \\sin\\left(\\theta_0 + \\omega_J t + l\\omega t + \\mathrm{Arg}(p_l)\\right)$.\n",
    "\n",
    "Since $V = 0$, $\\omega_J = 0$ and thus :\n",
    "\n",
    "$I = I_0 \\displaystyle \\sum_{l\\in \\mathbb{Z}} \\left| p_l \\right| \\sin\\left(\\theta_0 + l\\omega t + \\mathrm{Arg}(p_l)\\right)$.\n",
    "\n",
    "So looking at the components of the signal having frequency $\\omega$ :\n",
    "\n",
    "$I_\\omega = I_0 \\Big(\\left|p_{-1}\\right|\\sin\\big(\\theta_0 - \\omega t + \\mathrm{Arg}\\left(p_{-1}\\right)\\big) + \\left|p_{1}\\right|\\sin\\big(\\theta_0 + \\omega t + \\mathrm{Arg}\\left(p_{1}\\right)\\big) \\Big)$\n",
    "\n",
    "Note : since we are forcing $V_{DC} = 0$ and $I_{DC} = 0$, the DC term $I_{DC} = I_0 \\left|p_0 \\right| \\sin\\left(\\theta_0 + \\mathrm{Arg}\\!\\left(p_0\\right) \\right)$ means that <span style='color:royalblue'> $\\theta_0 = -\\mathrm{Arg}\\!\\left(p_0\\right) + n\\pi$ </span> so long as $\\left| p_0 \\right| \\neq 0$\n",
    "\n",
    "\n",
    "When disspiating through a resistance R, this gives a power of :\n",
    "\n",
    "<span style=\"color:royalblue\">$P_\\omega = \\frac{R I_0^2}{2}\\Big( \\left| p_{-1} \\right| ^2 + \\left| p_{1} \\right| ^2 + 2\\left|p_{-1} \\right| \\left|p_{1} \\right| \\cos \\left( 2\\theta_0 + \\mathrm{Arg}\\!\\left( p_1\\right) + \\mathrm{Arg}\\!\\left( p_{-1}\\right) \\right) \\Big)$</span>\n",
    "\n",
    "### RESOURCES\n",
    "\n",
    "For grouping terms together, check out Rewriting : https://docs.sympy.org/latest/modules/rewriting.html\n",
    "\n",
    "For a whole bunch of trig subs, look into https://docs.sympy.org/latest/modules/simplify/fu.html , there's probably already a TR function that'll do the job."
   ]
  },
  {
   "cell_type": "code",
   "execution_count": 3,
   "id": "82d25882-6b97-4974-b001-3b806719382f",
   "metadata": {},
   "outputs": [],
   "source": [
    "alpha, beta, phi_1, phi_2, k, n, k_0, n_0, q, delta, omega, phi_JJ, t = s.symbols(r\"\\alpha \\beta \\varphi_{1} \\varphi_{2} k n k_0 n_0 q \\delta \\omega \\varphi_{JJ} t\", real = True)\n",
    "\n",
    "def sub_for_delta(expression):\n",
    "    return expression.subs(phi_1, 2*delta/3 + 2*phi_2/3)\n",
    "\n",
    "def sub_for_phis(expression):\n",
    "    return expression.subs(delta, 3*phi_1/2 - phi_2)\n",
    "\n",
    "def particular_k_n(l):\n",
    "    return -l, l\n",
    "\n",
    "def bessel_terms(l, max_index):\n",
    "    # Lists bessel terms appearing in expansion for harmonic l for easier factoring\n",
    "    k_0, n_0 = particular_k_n(l)\n",
    "    return [s.besselj(3*q + k_0, alpha)*s.besselj(-2*q+n_0, beta) for q in range(max_index + 1)]"
   ]
  },
  {
   "cell_type": "markdown",
   "id": "5fb624b0-c9bf-41e4-a2a3-eb2f663aea4f",
   "metadata": {},
   "source": [
    "# 1. Complex formalism\n"
   ]
  },
  {
   "cell_type": "code",
   "execution_count": 27,
   "id": "3700fb5e-25de-44a6-a31b-51f5d0fda749",
   "metadata": {
    "tags": []
   },
   "outputs": [],
   "source": [
    "p_general = s.Sum(s.besselj(3*q + k_0, alpha)*s.besselj(-2*q+n_0, beta)*s.exp(-I*((3*q + k_0)*phi_1 + (-2*q+n_0)*phi_2 + phi_JJ)),\n",
    "         (q, -oo, oo))\n",
    "\n",
    "def general_term_complex(k_0, n_0, max_index):\n",
    "    if max_index is oo :\n",
    "        return s.Sum(s.besselj(3*q + k_0, alpha)*s.besselj(-2*q+n_0, beta)*s.exp(-I*((3*q + k_0)*phi_1 + (-2*q+n_0)*phi_2 + phi_JJ)),\n",
    "                     (q, -max_index, max_index))\n",
    "    else : \n",
    "        return s.Sum(s.besselj(3*q + k_0, alpha)*s.besselj(-2*q+n_0, beta)*s.exp(-I*((3*q + k_0)*phi_1 + (-2*q+n_0)*phi_2 + phi_JJ)),\n",
    "                     (q, -max_index, max_index)).doit()\n",
    "\n",
    "def p_l(l, max_index):\n",
    "    return general_term_complex(*particular_k_n(l), max_index)\n",
    "\n",
    "def freq_component_complex(l, max_index):\n",
    "    if l == 0 : \n",
    "        return p_l(l, max_index)\n",
    "    else : \n",
    "        return p_l(l, max_index)*s.exp(l*I*omega*t) + p_l(-l, max_index)*s.exp(-l*I*omega*t)"
   ]
  },
  {
   "cell_type": "markdown",
   "id": "f7c35d06-ce06-4cbb-b73e-1b9148ca85f4",
   "metadata": {},
   "source": [
    "## Order 0 Shapiro term"
   ]
  },
  {
   "cell_type": "code",
   "execution_count": 11,
   "id": "b5ecd5f4-ece7-481c-9f9e-877ba1e65e98",
   "metadata": {},
   "outputs": [
    {
     "data": {
      "image/png": "[encoded data removed]",
      "text/latex": [
       "$\\displaystyle - 2 \\sin{\\left(2 \\delta \\right)} \\cos{\\left(\\varphi_{JJ} \\right)} J_{2}\\left(\\beta\\right) J_{3}\\left(\\alpha\\right) - 2 \\sin{\\left(6 \\delta \\right)} \\cos{\\left(\\varphi_{JJ} \\right)} J_{6}\\left(\\beta\\right) J_{9}\\left(\\alpha\\right) - 2 \\sin{\\left(10 \\delta \\right)} \\cos{\\left(\\varphi_{JJ} \\right)} J_{10}\\left(\\beta\\right) J_{15}\\left(\\alpha\\right) - 2 \\sin{\\left(\\varphi_{JJ} \\right)} \\cos{\\left(4 \\delta \\right)} J_{4}\\left(\\beta\\right) J_{6}\\left(\\alpha\\right) - 2 \\sin{\\left(\\varphi_{JJ} \\right)} \\cos{\\left(8 \\delta \\right)} J_{8}\\left(\\beta\\right) J_{12}\\left(\\alpha\\right) - \\sin{\\left(\\varphi_{JJ} \\right)} J_{0}\\left(\\alpha\\right) J_{0}\\left(\\beta\\right)$"
      ],
      "text/plain": [
       "-2⋅sin(2⋅\\delta)⋅cos(\\varphi_{JJ})⋅besselj(2, \\beta)⋅besselj(3, \\alpha) - 2⋅si\n",
       "n(6⋅\\delta)⋅cos(\\varphi_{JJ})⋅besselj(6, \\beta)⋅besselj(9, \\alpha) - 2⋅sin(10⋅\n",
       "\\delta)⋅cos(\\varphi_{JJ})⋅besselj(10, \\beta)⋅besselj(15, \\alpha) - 2⋅sin(\\varp\n",
       "hi_{JJ})⋅cos(4⋅\\delta)⋅besselj(4, \\beta)⋅besselj(6, \\alpha) - 2⋅sin(\\varphi_{J\n",
       "J})⋅cos(8⋅\\delta)⋅besselj(8, \\beta)⋅besselj(12, \\alpha) - sin(\\varphi_{JJ})⋅be\n",
       "sselj(0, \\alpha)⋅besselj(0, \\beta)"
      ]
     },
     "execution_count": 11,
     "metadata": {},
     "output_type": "execute_result"
    }
   ],
   "source": [
    "l = 0\n",
    "order = 5\n",
    "\n",
    "bessels = bessel_terms(l, order)\n",
    "\n",
    "p_0 = freq_component_complex(l, order)\n",
    "\n",
    "p_0 = sub_for_delta(p_0)\n",
    "p_0 = s.collect(p_0, bessels)\n",
    "contract_trig_sums(im(p_0))"
   ]
  },
  {
   "cell_type": "markdown",
   "id": "9de43220-67cc-434d-947b-86cc2e351da4",
   "metadata": {},
   "source": [
    "## Order 1 Shapiro term\n",
    "### $\\alpha \\rightarrow 0$"
   ]
  },
  {
   "cell_type": "code",
   "execution_count": 40,
   "id": "34b7807c-774a-43fd-93f3-ca3ba428b041",
   "metadata": {
    "collapsed": true,
    "jupyter": {
     "outputs_hidden": true
    },
    "tags": []
   },
   "outputs": [
    {
     "data": {
      "image/png": "[encoded data removed]",
      "text/latex": [
       "$\\displaystyle \\left(\\alpha \\sin{\\left(\\varphi_{JJ} \\right)} \\cos{\\left(\\omega t + \\varphi_{1} - \\varphi_{2} \\right)} - \\frac{\\alpha^{2} \\sin{\\left(\\omega t - 2 \\varphi_{1} + \\varphi_{2} \\right)} \\cos{\\left(\\varphi_{JJ} \\right)}}{4} + O\\left(\\alpha^{3}\\right)\\right) J_{1}\\left(\\beta\\right)$"
      ],
      "text/plain": [
       "⎛                                                                           2                                                                           ⎞             \n",
       "⎜                                                                     \\alpha ⋅sin(\\omega⋅t - 2⋅\\varphi_{1} + \\varphi_{2})⋅cos(\\varphi_{JJ})    ⎛      3⎞⎟             \n",
       "⎜\\alpha⋅sin(\\varphi_{JJ})⋅cos(\\omega⋅t + \\varphi_{1} - \\varphi_{2}) - ───────────────────────────────────────────────────────────────────── + O⎝\\alpha ⎠⎟⋅besselj(1, \\\n",
       "⎝                                                                                                       4                                               ⎠             \n",
       "\n",
       "     \n",
       "     \n",
       "beta)\n",
       "     "
      ]
     },
     "execution_count": 40,
     "metadata": {},
     "output_type": "execute_result"
    }
   ],
   "source": [
    "l = 1\n",
    "order = 2\n",
    "\n",
    "bessels = bessel_terms(l, order)\n",
    "\n",
    "p_1 = freq_component_complex(l, order)\n",
    "p_1 = s.collect(p_1, bessels)\n",
    "p_1_real = im(p_1)\n",
    "#p_1_real = sub_for_delta(p_1_real)\n",
    "#p_1_real = contract_trig_sums(p_1_real)\n",
    "p_1_limalpha = p_1_real.series(alpha, 0, 3)\n",
    "p_1_limalpha = contract_trig_sums(TR10i(s.collect(p_1_limalpha, s.besselj(1, beta))))\n",
    "p_1_limalpha\n",
    "#print(s.latex(p_1_limalpha))"
   ]
  },
  {
   "cell_type": "code",
   "execution_count": null,
   "id": "54ee9744-8886-4c66-93b4-33bea8a43b6c",
   "metadata": {
    "collapsed": true,
    "jupyter": {
     "outputs_hidden": true
    },
    "tags": []
   },
   "outputs": [
    {
     "data": {
      "image/png": "[encoded data removed]",
      "text/latex": [
       "$\\displaystyle \\left(- e^{- i \\left(5 \\varphi_{1} - 3 \\varphi_{2} + \\varphi_{JJ}\\right)} J_{3}\\left(\\beta\\right) J_{5}\\left(\\alpha\\right) - e^{- i \\left(2 \\varphi_{1} - \\varphi_{2} + \\varphi_{JJ}\\right)} J_{1}\\left(\\beta\\right) J_{2}\\left(\\alpha\\right) - e^{- i \\left(- \\varphi_{1} + \\varphi_{2} + \\varphi_{JJ}\\right)} J_{1}\\left(\\alpha\\right) J_{1}\\left(\\beta\\right) + e^{- i \\left(- 4 \\varphi_{1} + 3 \\varphi_{2} + \\varphi_{JJ}\\right)} J_{3}\\left(\\beta\\right) J_{4}\\left(\\alpha\\right) - e^{- i \\left(- 7 \\varphi_{1} + 5 \\varphi_{2} + \\varphi_{JJ}\\right)} J_{5}\\left(\\beta\\right) J_{7}\\left(\\alpha\\right)\\right) e^{i \\omega t} + \\left(- e^{- i \\left(7 \\varphi_{1} - 5 \\varphi_{2} + \\varphi_{JJ}\\right)} J_{5}\\left(\\beta\\right) J_{7}\\left(\\alpha\\right) - e^{- i \\left(4 \\varphi_{1} - 3 \\varphi_{2} + \\varphi_{JJ}\\right)} J_{3}\\left(\\beta\\right) J_{4}\\left(\\alpha\\right) - e^{- i \\left(\\varphi_{1} - \\varphi_{2} + \\varphi_{JJ}\\right)} J_{1}\\left(\\alpha\\right) J_{1}\\left(\\beta\\right) + e^{- i \\left(- 2 \\varphi_{1} + \\varphi_{2} + \\varphi_{JJ}\\right)} J_{1}\\left(\\beta\\right) J_{2}\\left(\\alpha\\right) - e^{- i \\left(- 5 \\varphi_{1} + 3 \\varphi_{2} + \\varphi_{JJ}\\right)} J_{3}\\left(\\beta\\right) J_{5}\\left(\\alpha\\right)\\right) e^{- i \\omega t}$"
      ],
      "text/plain": [
       "⎛   -ⅈ⋅(5⋅\\varphi_{1} - 3⋅\\varphi_{2} + \\varphi_{JJ})                                         -ⅈ⋅(2⋅\\varphi_{1} - \\varphi_{2} + \\varphi_{JJ})                         \n",
       "⎝- ℯ                                                 ⋅besselj(3, \\beta)⋅besselj(5, \\alpha) - ℯ                                               ⋅besselj(1, \\beta)⋅bessel\n",
       "\n",
       "                -ⅈ⋅(-\\varphi_{1} + \\varphi_{2} + \\varphi_{JJ})                                         -ⅈ⋅(-4⋅\\varphi_{1} + 3⋅\\varphi_{2} + \\varphi_{JJ})             \n",
       "j(2, \\alpha) - ℯ                                              ⋅besselj(1, \\alpha)⋅besselj(1, \\beta) + ℯ                                                  ⋅besselj(3, \\\n",
       "\n",
       "                            -ⅈ⋅(-7⋅\\varphi_{1} + 5⋅\\varphi_{2} + \\varphi_{JJ})                                     ⎞  ⅈ⋅\\omega⋅t   ⎛   -ⅈ⋅(7⋅\\varphi_{1} - 5⋅\\varphi_{\n",
       "beta)⋅besselj(4, \\alpha) - ℯ                                                  ⋅besselj(5, \\beta)⋅besselj(7, \\alpha)⎠⋅ℯ           + ⎝- ℯ                               \n",
       "\n",
       "2} + \\varphi_{JJ})                                         -ⅈ⋅(4⋅\\varphi_{1} - 3⋅\\varphi_{2} + \\varphi_{JJ})                                         -ⅈ⋅(\\varphi_{1} -\n",
       "                  ⋅besselj(5, \\beta)⋅besselj(7, \\alpha) - ℯ                                                 ⋅besselj(3, \\beta)⋅besselj(4, \\alpha) - ℯ                 \n",
       "\n",
       " \\varphi_{2} + \\varphi_{JJ})                                         -ⅈ⋅(-2⋅\\varphi_{1} + \\varphi_{2} + \\varphi_{JJ})                                         -ⅈ⋅(-5⋅\\\n",
       "                            ⋅besselj(1, \\alpha)⋅besselj(1, \\beta) + ℯ                                                ⋅besselj(1, \\beta)⋅besselj(2, \\alpha) - ℯ        \n",
       "\n",
       "varphi_{1} + 3⋅\\varphi_{2} + \\varphi_{JJ})                                     ⎞  -ⅈ⋅\\omega⋅t\n",
       "                                          ⋅besselj(3, \\beta)⋅besselj(5, \\alpha)⎠⋅ℯ           "
      ]
     },
     "execution_count": 41,
     "metadata": {},
     "output_type": "execute_result"
    }
   ],
   "source": []
  },
  {
   "cell_type": "markdown",
   "id": "e4fee0b6-81e1-4203-98b2-cc9097d5dd35",
   "metadata": {},
   "source": [
    "so :\n",
    "\n",
    "<span style='color:orangered'>$V_{\\omega} \\underset{\\alpha \\rightarrow 0}{=} \\alpha \\sin{\\left(\\varphi_{JJ} \\right)} \\cos{\\left(\\omega t + \\varphi_{1} - \\varphi_{2} \\right)} J_{1}\\left(\\beta\\right) + \\mathcal{O}\\left(\\alpha^{2}\\right)$ </span>"
   ]
  },
  {
   "cell_type": "markdown",
   "id": "3fb9cb46-9a3c-4b09-8fd6-5a65b529ef3f",
   "metadata": {},
   "source": [
    "### $\\beta \\rightarrow 0$ "
   ]
  },
  {
   "cell_type": "code",
   "execution_count": 43,
   "id": "106c88a0-db3b-4d5b-a0a6-f165b24afd0f",
   "metadata": {},
   "outputs": [
    {
     "data": {
      "image/png": "[encoded data removed]",
      "text/latex": [
       "$\\displaystyle \\beta \\left(\\sin{\\left(\\varphi_{JJ} \\right)} \\cos{\\left(\\omega t + \\varphi_{1} - \\varphi_{2} \\right)} J_{1}\\left(\\alpha\\right) - \\sin{\\left(\\omega t - 2 \\varphi_{1} + \\varphi_{2} \\right)} \\cos{\\left(\\varphi_{JJ} \\right)} J_{2}\\left(\\alpha\\right)\\right) + O\\left(\\beta^{3}\\right)$"
      ],
      "text/plain": [
       "                                                                                                                                                                      \n",
       "\\beta⋅(sin(\\varphi_{JJ})⋅cos(\\omega⋅t + \\varphi_{1} - \\varphi_{2})⋅besselj(1, \\alpha) - sin(\\omega⋅t - 2⋅\\varphi_{1} + \\varphi_{2})⋅cos(\\varphi_{JJ})⋅besselj(2, \\alph\n",
       "\n",
       "       ⎛     3⎞\n",
       "a)) + O⎝\\beta ⎠"
      ]
     },
     "execution_count": 43,
     "metadata": {},
     "output_type": "execute_result"
    }
   ],
   "source": [
    "l = 1\n",
    "order = 2\n",
    "\n",
    "bessels = bessel_terms(l, order)\n",
    "\n",
    "p_1 = freq_component_complex(l, order)\n",
    "p_1 = s.collect(p_1, bessels)\n",
    "p_1_real = im(p_1)\n",
    "#p_1_real = sub_for_delta(p_1_real)\n",
    "#p_1_real = contract_trig_sums(p_1_real)\n",
    "contract_trig_sums(TR10i(p_1_real.series(beta, 0, 3)))"
   ]
  },
  {
   "cell_type": "markdown",
   "id": "d962addf-6aa2-4639-9471-8e0333b960d3",
   "metadata": {},
   "source": [
    "so :\n",
    "\n",
    "<span style='color:orangered'>$V_{\\omega} \\underset{\\beta \\rightarrow 0}{=} \\frac{\\beta}{2}\\left[\\sin{\\left(\\varphi_{JJ} \\right)} \\cos{\\left(\\omega t + \\varphi_{1} - \\varphi_{2} \\right)} J_{1}\\left(\\alpha\\right) - \\sin{\\left(\\omega t - 2 \\varphi_{1} + \\varphi_{2} \\right)} \\cos{\\left(\\varphi_{JJ} \\right)} J_{2}\\left(\\alpha\\right)\\right]  \\mathcal{O}(\\beta^3)$ </span>"
   ]
  },
  {
   "cell_type": "markdown",
   "id": "630d8673-c6c7-4e17-8780-7b37228d59bf",
   "metadata": {},
   "source": [
    "# 2. Sine formalism"
   ]
  },
  {
   "cell_type": "code",
   "execution_count": 19,
   "id": "828b9a7b-8669-407f-92b3-b9e31b80d2cf",
   "metadata": {},
   "outputs": [],
   "source": [
    "p_general = s.Sum(s.besselj(3*q + k_0, alpha)*s.besselj(-2*q+n_0, beta)*s.sin(phi_JJ + (2*(3*q + k_0) + (-2*q+n_0)*3)*omega*t + (3*q + k_0 )*phi_1 + (-2*q+n_0)*phi_2),\n",
    "         (q, -oo, oo))\n",
    "\n",
    "def general_term_real(k_0, n_0, max_index):\n",
    "    if max_index is oo :\n",
    "        return s.Sum(s.besselj(3*q + k_0, alpha)*s.besselj(-2*q+n_0, beta)*s.sin(phi_JJ + (2*(3*q + k_0) + (-2*q+n_0)*3)*omega*t + (3*q + k_0 )*phi_1 + (-2*q+n_0)*phi_2),\n",
    "                     (q, -max_index, max_index))\n",
    "    else : \n",
    "        return s.Sum(s.besselj(3*q + k_0, alpha)*s.besselj(-2*q+n_0, beta)*s.sin(phi_JJ + (2*(3*q + k_0) + (-2*q+n_0)*3)*omega*t + (3*q + k_0 )*phi_1 + (-2*q+n_0)*phi_2),\n",
    "                     (q, -max_index, max_index)).doit()\n",
    "\n",
    "\n",
    "def freq_component_sine(l, max_index):\n",
    "    if l == 0 :\n",
    "        return general_term_real(*particular_k_n(l), max_index)\n",
    "    else :\n",
    "        return general_term_real(*particular_k_n(l), max_index) + general_term_real(*particular_k_n(-l), max_index)"
   ]
  },
  {
   "cell_type": "code",
   "execution_count": 7,
   "id": "875767f3-4164-44f0-a807-27c5f69f3131",
   "metadata": {},
   "outputs": [
    {
     "data": {
      "image/png": "[encoded data removed]",
      "text/latex": [
       "$\\displaystyle 2 \\sin{\\left(2 \\delta \\right)} \\cos{\\left(\\varphi_{JJ} \\right)} J_{2}\\left(\\beta\\right) J_{3}\\left(\\alpha\\right) + 2 \\sin{\\left(6 \\delta \\right)} \\cos{\\left(\\varphi_{JJ} \\right)} J_{6}\\left(\\beta\\right) J_{9}\\left(\\alpha\\right) + 2 \\sin{\\left(\\varphi_{JJ} \\right)} \\cos{\\left(4 \\delta \\right)} J_{4}\\left(\\beta\\right) J_{6}\\left(\\alpha\\right) + \\sin{\\left(\\varphi_{JJ} \\right)} J_{0}\\left(\\alpha\\right) J_{0}\\left(\\beta\\right)$"
      ],
      "text/plain": [
       "2⋅sin(2⋅\\delta)⋅cos(\\varphi_{JJ})⋅besselj(2, \\beta)⋅besselj(3, \\alpha) + 2⋅sin\n",
       "(6⋅\\delta)⋅cos(\\varphi_{JJ})⋅besselj(6, \\beta)⋅besselj(9, \\alpha) + 2⋅sin(\\var\n",
       "phi_{JJ})⋅cos(4⋅\\delta)⋅besselj(4, \\beta)⋅besselj(6, \\alpha) + sin(\\varphi_{JJ\n",
       "})⋅besselj(0, \\alpha)⋅besselj(0, \\beta)"
      ]
     },
     "execution_count": 7,
     "metadata": {},
     "output_type": "execute_result"
    }
   ],
   "source": [
    "l = 0\n",
    "order = 3\n",
    "\n",
    "bessels = bessel_terms(l, order)\n",
    "\n",
    "I_DC = freq_component_sine(l, order) # generating the expression\n",
    "I_DC = sub_for_delta(I_DC) # turning the \n",
    "I_DC = s.collect(I_DC, bessels)\n",
    "\n",
    "# And here we're using Hongguang Fu's TR9 sub to turn sums of trigs to products of trigs\n",
    "I_DC = contract_trig_sums(I_DC)\n",
    "I_DC"
   ]
  },
  {
   "cell_type": "code",
   "execution_count": 25,
   "id": "3e41bdf2-e78e-4cd7-8f46-aafb69e01b68",
   "metadata": {},
   "outputs": [
    {
     "data": {
      "image/png": "[encoded data removed]",
      "text/latex": [
       "$\\displaystyle \\beta \\left(- \\sin{\\left(\\varphi_{JJ} \\right)} \\cos{\\left(\\omega t - \\varphi_{1} + \\varphi_{2} \\right)} J_{1}\\left(\\alpha\\right) - \\sin{\\left(\\omega t + 2 \\varphi_{1} - \\varphi_{2} \\right)} \\cos{\\left(\\varphi_{JJ} \\right)} J_{2}\\left(\\alpha\\right)\\right) + O\\left(\\beta^{3}\\right)$"
      ],
      "text/plain": [
       "                                                                                                                                                                      \n",
       "\\beta⋅(-sin(\\varphi_{JJ})⋅cos(\\omega⋅t - \\varphi_{1} + \\varphi_{2})⋅besselj(1, \\alpha) - sin(\\omega⋅t + 2⋅\\varphi_{1} - \\varphi_{2})⋅cos(\\varphi_{JJ})⋅besselj(2, \\alp\n",
       "\n",
       "        ⎛     3⎞\n",
       "ha)) + O⎝\\beta ⎠"
      ]
     },
     "execution_count": 25,
     "metadata": {},
     "output_type": "execute_result"
    }
   ],
   "source": [
    "l = 1\n",
    "order = 2\n",
    "\n",
    "bessels = bessel_terms(l, order)\n",
    "\n",
    "I_DC = freq_component_sine(l, order) # generating the expression\n",
    "#I_DC = sub_for_delta(I_DC) # turning the \n",
    "I_DC = s.collect(I_DC, bessels)\n",
    "\n",
    "# And here we're using Hongguang Fu's TR9 sub to turn sums of trigs to products of trigs\n",
    "I_DC = contract_trig_sums(I_DC)\n",
    "I_DC.series(beta, 0, 3)"
   ]
  }
 ],
 "metadata": {
  "kernelspec": {
   "display_name": "Python 3 (ipykernel)",
   "language": "python",
   "name": "python3"
  },
  "language_info": {
   "codemirror_mode": {
    "name": "ipython",
    "version": 3
   },
   "file_extension": ".py",
   "mimetype": "text/x-python",
   "name": "python",
   "nbconvert_exporter": "python",
   "pygments_lexer": "ipython3",
   "version": "3.9.12"
  }
 },
 "nbformat": 4,
 "nbformat_minor": 5
}
